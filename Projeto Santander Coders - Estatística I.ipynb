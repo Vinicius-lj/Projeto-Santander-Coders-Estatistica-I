{
 "cells": [
  {
   "cell_type": "markdown",
   "metadata": {},
   "source": [
    "# Análise Exploratória de Dados sobre <span style=\"color:green\">Jogos na Steam</span>\n",
    "## Por: Vinícius Leôncio \n",
    "### Módulo: Estatística I\n",
    "---"
   ]
  },
  {
   "cell_type": "markdown",
   "metadata": {},
   "source": [
    "O objetivo deste projeto é proporcionar a oportunidade de aplicar os conhecimentos adquiridos ao longo da disciplina de Estatística I em um contexto prático, relevante e data-driven. Com uma análise exploratória e levantando uma hipótese, utilizando uma base de dados sobre os jogos na Steam, maior plataforma de distribuição digital de jogos digitais, utilizando um conjunto de dados real, a fim de extrair insights e entender melhor a base de dados.\n",
    "\n",
    "Base de dados usada: https://www.kaggle.com/datasets/nikdavis/steam-store-games\n",
    "\n",
    "Foi explorado o seguinte dataset nesse arquivo: \n",
    "- steam.csv\n",
    "\n",
    "---"
   ]
  },
  {
   "cell_type": "markdown",
   "metadata": {},
   "source": [
    "## Introdução"
   ]
  },
  {
   "cell_type": "markdown",
   "metadata": {},
   "source": [
    "\n",
    "**Motivação:** Entender se comparar o tempo de jogo mediano com as avaliações positivas para ver se jogos com maior tempo de gameplay têm melhor recepção dos usuários. Vamos usar o valor **mediano** de tempo de jogo em vez da **média**, pois a mediana fornece uma medida de tendência central que não é afetada por valores extremos.\n",
    "\n",
    "**Hipótese:** Jogos com tempo de jogo mediano(median_playtime) mais alto tendem a ter avaliações mais positivas.\n",
    "\n",
    "- **H0 (hipótese nula):**  Não há correlação entre o tempo de jogo mediano e as avaliações dos usuários\n",
    "- **H1 (hipótese alternativa):** Existe uma correlação entre o tempo de jogo mediano e as avaliações dos usuários\n",
    "\n"
   ]
  },
  {
   "cell_type": "markdown",
   "metadata": {},
   "source": [
    "---\n",
    "## Conhecendo a Base de Dados\n",
    "\n",
    "Esse conjunto de dados fornece informações sobre diversos aspectos de jogos eletrônicos na loja da Steam, como gênero e número estimado de proprietários. Reunido por volta de maio de 2019, contém a maioria dos jogos da loja lançados antes dessa data.\n",
    "\n"
   ]
  },
  {
   "cell_type": "markdown",
   "metadata": {},
   "source": [
    "### Tabela Descritiva"
   ]
  },
  {
   "cell_type": "markdown",
   "metadata": {},
   "source": [
    "| Campo          | Descrição                                                                 |\n",
    "|------------------|-----------------------------------------------------------------------------|\n",
    "| appid            | Unique identifier for each title                                            |\n",
    "| name             | Title of app (game)                                                         |\n",
    "| release_date     | Release date in format YYYY-MM-DD                                           |\n",
    "| english          | Language support: 1 if is in English                                        |\n",
    "| developer        | Name (or names) of developer(s). Semicolon delimited if multiple             |\n",
    "| publisher        | Name (or names) of publisher(s). Semicolon delimited if multiple             |\n",
    "| platforms        | Semicolon delimited list of supported platforms. At most includes: windows;mac;linux |\n",
    "| required_age     | Minimum required age according to PEGI UK standards. Many with 0 are unrated or unsupplied. |\n",
    "| categories       | Semicolon delimited list of game categories, e.g. single-player;multi-player |\n",
    "| genres           | Semicolon delimited list of game genres, e.g. action;adventure               |\n",
    "| steamspy_tags    | Semicolon delimited list of top steamspy game tags, similar to genres but community voted, e.g. action;adventure |\n",
    "| achievements     | Number of in-games achievements, if any                                      |\n",
    "| positive_ratings | Number of positive ratings, from SteamSpy                                    |\n",
    "| negative_ratings | Number of negative ratings, from SteamSpy                                    |\n",
    "| average_playtime | Average user playtime, from SteamSpy                                         |\n",
    "| median_playtime  | Median user playtime, from SteamSpy                                          |\n",
    "| owners           | Estimated number of owners. Contains lower and upper bound (like 20000-50000). |\n",
    "| price            | Current full price of title in GBP, (pounds sterling)                        |"
   ]
  },
  {
   "cell_type": "markdown",
   "metadata": {},
   "source": [
    "### Visão Geral"
   ]
  },
  {
   "cell_type": "markdown",
   "metadata": {},
   "source": [
    "A seguir sera feita uma análise descritiva para entender melhor a estrutura da base de dados escolhida."
   ]
  },
  {
   "cell_type": "code",
   "execution_count": 1,
   "metadata": {},
   "outputs": [],
   "source": [
    "import pandas as pd\n",
    "import matplotlib.pyplot as plt\n",
    "from scipy import stats"
   ]
  },
  {
   "cell_type": "code",
   "execution_count": 2,
   "metadata": {},
   "outputs": [
    {
     "data": {
      "text/html": [
       "<div>\n",
       "<style scoped>\n",
       "    .dataframe tbody tr th:only-of-type {\n",
       "        vertical-align: middle;\n",
       "    }\n",
       "\n",
       "    .dataframe tbody tr th {\n",
       "        vertical-align: top;\n",
       "    }\n",
       "\n",
       "    .dataframe thead th {\n",
       "        text-align: right;\n",
       "    }\n",
       "</style>\n",
       "<table border=\"1\" class=\"dataframe\">\n",
       "  <thead>\n",
       "    <tr style=\"text-align: right;\">\n",
       "      <th></th>\n",
       "      <th>appid</th>\n",
       "      <th>name</th>\n",
       "      <th>release_date</th>\n",
       "      <th>english</th>\n",
       "      <th>developer</th>\n",
       "      <th>publisher</th>\n",
       "      <th>platforms</th>\n",
       "      <th>required_age</th>\n",
       "      <th>categories</th>\n",
       "      <th>genres</th>\n",
       "      <th>steamspy_tags</th>\n",
       "      <th>achievements</th>\n",
       "      <th>positive_ratings</th>\n",
       "      <th>negative_ratings</th>\n",
       "      <th>average_playtime</th>\n",
       "      <th>median_playtime</th>\n",
       "      <th>owners</th>\n",
       "      <th>price</th>\n",
       "    </tr>\n",
       "  </thead>\n",
       "  <tbody>\n",
       "    <tr>\n",
       "      <th>0</th>\n",
       "      <td>10</td>\n",
       "      <td>Counter-Strike</td>\n",
       "      <td>2000-11-01</td>\n",
       "      <td>1</td>\n",
       "      <td>Valve</td>\n",
       "      <td>Valve</td>\n",
       "      <td>windows;mac;linux</td>\n",
       "      <td>0</td>\n",
       "      <td>Multi-player;Online Multi-Player;Local Multi-P...</td>\n",
       "      <td>Action</td>\n",
       "      <td>Action;FPS;Multiplayer</td>\n",
       "      <td>0</td>\n",
       "      <td>124534</td>\n",
       "      <td>3339</td>\n",
       "      <td>17612</td>\n",
       "      <td>317</td>\n",
       "      <td>10000000-20000000</td>\n",
       "      <td>7.19</td>\n",
       "    </tr>\n",
       "    <tr>\n",
       "      <th>1</th>\n",
       "      <td>20</td>\n",
       "      <td>Team Fortress Classic</td>\n",
       "      <td>1999-04-01</td>\n",
       "      <td>1</td>\n",
       "      <td>Valve</td>\n",
       "      <td>Valve</td>\n",
       "      <td>windows;mac;linux</td>\n",
       "      <td>0</td>\n",
       "      <td>Multi-player;Online Multi-Player;Local Multi-P...</td>\n",
       "      <td>Action</td>\n",
       "      <td>Action;FPS;Multiplayer</td>\n",
       "      <td>0</td>\n",
       "      <td>3318</td>\n",
       "      <td>633</td>\n",
       "      <td>277</td>\n",
       "      <td>62</td>\n",
       "      <td>5000000-10000000</td>\n",
       "      <td>3.99</td>\n",
       "    </tr>\n",
       "    <tr>\n",
       "      <th>2</th>\n",
       "      <td>30</td>\n",
       "      <td>Day of Defeat</td>\n",
       "      <td>2003-05-01</td>\n",
       "      <td>1</td>\n",
       "      <td>Valve</td>\n",
       "      <td>Valve</td>\n",
       "      <td>windows;mac;linux</td>\n",
       "      <td>0</td>\n",
       "      <td>Multi-player;Valve Anti-Cheat enabled</td>\n",
       "      <td>Action</td>\n",
       "      <td>FPS;World War II;Multiplayer</td>\n",
       "      <td>0</td>\n",
       "      <td>3416</td>\n",
       "      <td>398</td>\n",
       "      <td>187</td>\n",
       "      <td>34</td>\n",
       "      <td>5000000-10000000</td>\n",
       "      <td>3.99</td>\n",
       "    </tr>\n",
       "    <tr>\n",
       "      <th>3</th>\n",
       "      <td>40</td>\n",
       "      <td>Deathmatch Classic</td>\n",
       "      <td>2001-06-01</td>\n",
       "      <td>1</td>\n",
       "      <td>Valve</td>\n",
       "      <td>Valve</td>\n",
       "      <td>windows;mac;linux</td>\n",
       "      <td>0</td>\n",
       "      <td>Multi-player;Online Multi-Player;Local Multi-P...</td>\n",
       "      <td>Action</td>\n",
       "      <td>Action;FPS;Multiplayer</td>\n",
       "      <td>0</td>\n",
       "      <td>1273</td>\n",
       "      <td>267</td>\n",
       "      <td>258</td>\n",
       "      <td>184</td>\n",
       "      <td>5000000-10000000</td>\n",
       "      <td>3.99</td>\n",
       "    </tr>\n",
       "    <tr>\n",
       "      <th>4</th>\n",
       "      <td>50</td>\n",
       "      <td>Half-Life: Opposing Force</td>\n",
       "      <td>1999-11-01</td>\n",
       "      <td>1</td>\n",
       "      <td>Gearbox Software</td>\n",
       "      <td>Valve</td>\n",
       "      <td>windows;mac;linux</td>\n",
       "      <td>0</td>\n",
       "      <td>Single-player;Multi-player;Valve Anti-Cheat en...</td>\n",
       "      <td>Action</td>\n",
       "      <td>FPS;Action;Sci-fi</td>\n",
       "      <td>0</td>\n",
       "      <td>5250</td>\n",
       "      <td>288</td>\n",
       "      <td>624</td>\n",
       "      <td>415</td>\n",
       "      <td>5000000-10000000</td>\n",
       "      <td>3.99</td>\n",
       "    </tr>\n",
       "    <tr>\n",
       "      <th>...</th>\n",
       "      <td>...</td>\n",
       "      <td>...</td>\n",
       "      <td>...</td>\n",
       "      <td>...</td>\n",
       "      <td>...</td>\n",
       "      <td>...</td>\n",
       "      <td>...</td>\n",
       "      <td>...</td>\n",
       "      <td>...</td>\n",
       "      <td>...</td>\n",
       "      <td>...</td>\n",
       "      <td>...</td>\n",
       "      <td>...</td>\n",
       "      <td>...</td>\n",
       "      <td>...</td>\n",
       "      <td>...</td>\n",
       "      <td>...</td>\n",
       "      <td>...</td>\n",
       "    </tr>\n",
       "    <tr>\n",
       "      <th>27070</th>\n",
       "      <td>1065230</td>\n",
       "      <td>Room of Pandora</td>\n",
       "      <td>2019-04-24</td>\n",
       "      <td>1</td>\n",
       "      <td>SHEN JIAWEI</td>\n",
       "      <td>SHEN JIAWEI</td>\n",
       "      <td>windows</td>\n",
       "      <td>0</td>\n",
       "      <td>Single-player;Steam Achievements</td>\n",
       "      <td>Adventure;Casual;Indie</td>\n",
       "      <td>Adventure;Indie;Casual</td>\n",
       "      <td>7</td>\n",
       "      <td>3</td>\n",
       "      <td>0</td>\n",
       "      <td>0</td>\n",
       "      <td>0</td>\n",
       "      <td>0-20000</td>\n",
       "      <td>2.09</td>\n",
       "    </tr>\n",
       "    <tr>\n",
       "      <th>27071</th>\n",
       "      <td>1065570</td>\n",
       "      <td>Cyber Gun</td>\n",
       "      <td>2019-04-23</td>\n",
       "      <td>1</td>\n",
       "      <td>Semyon Maximov</td>\n",
       "      <td>BekkerDev Studio</td>\n",
       "      <td>windows</td>\n",
       "      <td>0</td>\n",
       "      <td>Single-player</td>\n",
       "      <td>Action;Adventure;Indie</td>\n",
       "      <td>Action;Indie;Adventure</td>\n",
       "      <td>0</td>\n",
       "      <td>8</td>\n",
       "      <td>1</td>\n",
       "      <td>0</td>\n",
       "      <td>0</td>\n",
       "      <td>0-20000</td>\n",
       "      <td>1.69</td>\n",
       "    </tr>\n",
       "    <tr>\n",
       "      <th>27072</th>\n",
       "      <td>1065650</td>\n",
       "      <td>Super Star Blast</td>\n",
       "      <td>2019-04-24</td>\n",
       "      <td>1</td>\n",
       "      <td>EntwicklerX</td>\n",
       "      <td>EntwicklerX</td>\n",
       "      <td>windows</td>\n",
       "      <td>0</td>\n",
       "      <td>Single-player;Multi-player;Co-op;Shared/Split ...</td>\n",
       "      <td>Action;Casual;Indie</td>\n",
       "      <td>Action;Indie;Casual</td>\n",
       "      <td>24</td>\n",
       "      <td>0</td>\n",
       "      <td>1</td>\n",
       "      <td>0</td>\n",
       "      <td>0</td>\n",
       "      <td>0-20000</td>\n",
       "      <td>3.99</td>\n",
       "    </tr>\n",
       "    <tr>\n",
       "      <th>27073</th>\n",
       "      <td>1066700</td>\n",
       "      <td>New Yankee 7: Deer Hunters</td>\n",
       "      <td>2019-04-17</td>\n",
       "      <td>1</td>\n",
       "      <td>Yustas Game Studio</td>\n",
       "      <td>Alawar Entertainment</td>\n",
       "      <td>windows;mac</td>\n",
       "      <td>0</td>\n",
       "      <td>Single-player;Steam Cloud</td>\n",
       "      <td>Adventure;Casual;Indie</td>\n",
       "      <td>Indie;Casual;Adventure</td>\n",
       "      <td>0</td>\n",
       "      <td>2</td>\n",
       "      <td>0</td>\n",
       "      <td>0</td>\n",
       "      <td>0</td>\n",
       "      <td>0-20000</td>\n",
       "      <td>5.19</td>\n",
       "    </tr>\n",
       "    <tr>\n",
       "      <th>27074</th>\n",
       "      <td>1069460</td>\n",
       "      <td>Rune Lord</td>\n",
       "      <td>2019-04-24</td>\n",
       "      <td>1</td>\n",
       "      <td>Adept Studios GD</td>\n",
       "      <td>Alawar Entertainment</td>\n",
       "      <td>windows;mac</td>\n",
       "      <td>0</td>\n",
       "      <td>Single-player;Steam Cloud</td>\n",
       "      <td>Adventure;Casual;Indie</td>\n",
       "      <td>Indie;Casual;Adventure</td>\n",
       "      <td>0</td>\n",
       "      <td>4</td>\n",
       "      <td>0</td>\n",
       "      <td>0</td>\n",
       "      <td>0</td>\n",
       "      <td>0-20000</td>\n",
       "      <td>5.19</td>\n",
       "    </tr>\n",
       "  </tbody>\n",
       "</table>\n",
       "<p>27075 rows × 18 columns</p>\n",
       "</div>"
      ],
      "text/plain": [
       "         appid                        name release_date  english  \\\n",
       "0           10              Counter-Strike   2000-11-01        1   \n",
       "1           20       Team Fortress Classic   1999-04-01        1   \n",
       "2           30               Day of Defeat   2003-05-01        1   \n",
       "3           40          Deathmatch Classic   2001-06-01        1   \n",
       "4           50   Half-Life: Opposing Force   1999-11-01        1   \n",
       "...        ...                         ...          ...      ...   \n",
       "27070  1065230             Room of Pandora   2019-04-24        1   \n",
       "27071  1065570                   Cyber Gun   2019-04-23        1   \n",
       "27072  1065650            Super Star Blast   2019-04-24        1   \n",
       "27073  1066700  New Yankee 7: Deer Hunters   2019-04-17        1   \n",
       "27074  1069460                   Rune Lord   2019-04-24        1   \n",
       "\n",
       "                developer             publisher          platforms  \\\n",
       "0                   Valve                 Valve  windows;mac;linux   \n",
       "1                   Valve                 Valve  windows;mac;linux   \n",
       "2                   Valve                 Valve  windows;mac;linux   \n",
       "3                   Valve                 Valve  windows;mac;linux   \n",
       "4        Gearbox Software                 Valve  windows;mac;linux   \n",
       "...                   ...                   ...                ...   \n",
       "27070         SHEN JIAWEI           SHEN JIAWEI            windows   \n",
       "27071      Semyon Maximov      BekkerDev Studio            windows   \n",
       "27072         EntwicklerX           EntwicklerX            windows   \n",
       "27073  Yustas Game Studio  Alawar Entertainment        windows;mac   \n",
       "27074    Adept Studios GD  Alawar Entertainment        windows;mac   \n",
       "\n",
       "       required_age                                         categories  \\\n",
       "0                 0  Multi-player;Online Multi-Player;Local Multi-P...   \n",
       "1                 0  Multi-player;Online Multi-Player;Local Multi-P...   \n",
       "2                 0              Multi-player;Valve Anti-Cheat enabled   \n",
       "3                 0  Multi-player;Online Multi-Player;Local Multi-P...   \n",
       "4                 0  Single-player;Multi-player;Valve Anti-Cheat en...   \n",
       "...             ...                                                ...   \n",
       "27070             0                   Single-player;Steam Achievements   \n",
       "27071             0                                      Single-player   \n",
       "27072             0  Single-player;Multi-player;Co-op;Shared/Split ...   \n",
       "27073             0                          Single-player;Steam Cloud   \n",
       "27074             0                          Single-player;Steam Cloud   \n",
       "\n",
       "                       genres                 steamspy_tags  achievements  \\\n",
       "0                      Action        Action;FPS;Multiplayer             0   \n",
       "1                      Action        Action;FPS;Multiplayer             0   \n",
       "2                      Action  FPS;World War II;Multiplayer             0   \n",
       "3                      Action        Action;FPS;Multiplayer             0   \n",
       "4                      Action             FPS;Action;Sci-fi             0   \n",
       "...                       ...                           ...           ...   \n",
       "27070  Adventure;Casual;Indie        Adventure;Indie;Casual             7   \n",
       "27071  Action;Adventure;Indie        Action;Indie;Adventure             0   \n",
       "27072     Action;Casual;Indie           Action;Indie;Casual            24   \n",
       "27073  Adventure;Casual;Indie        Indie;Casual;Adventure             0   \n",
       "27074  Adventure;Casual;Indie        Indie;Casual;Adventure             0   \n",
       "\n",
       "       positive_ratings  negative_ratings  average_playtime  median_playtime  \\\n",
       "0                124534              3339             17612              317   \n",
       "1                  3318               633               277               62   \n",
       "2                  3416               398               187               34   \n",
       "3                  1273               267               258              184   \n",
       "4                  5250               288               624              415   \n",
       "...                 ...               ...               ...              ...   \n",
       "27070                 3                 0                 0                0   \n",
       "27071                 8                 1                 0                0   \n",
       "27072                 0                 1                 0                0   \n",
       "27073                 2                 0                 0                0   \n",
       "27074                 4                 0                 0                0   \n",
       "\n",
       "                  owners  price  \n",
       "0      10000000-20000000   7.19  \n",
       "1       5000000-10000000   3.99  \n",
       "2       5000000-10000000   3.99  \n",
       "3       5000000-10000000   3.99  \n",
       "4       5000000-10000000   3.99  \n",
       "...                  ...    ...  \n",
       "27070            0-20000   2.09  \n",
       "27071            0-20000   1.69  \n",
       "27072            0-20000   3.99  \n",
       "27073            0-20000   5.19  \n",
       "27074            0-20000   5.19  \n",
       "\n",
       "[27075 rows x 18 columns]"
      ]
     },
     "execution_count": 2,
     "metadata": {},
     "output_type": "execute_result"
    }
   ],
   "source": [
    "df_steam = pd.read_csv('steam.csv')\n",
    "df_steam\n"
   ]
  },
  {
   "cell_type": "markdown",
   "metadata": {},
   "source": [
    "### Algumas Medidas Estatísticas"
   ]
  },
  {
   "cell_type": "code",
   "execution_count": 3,
   "metadata": {},
   "outputs": [
    {
     "data": {
      "text/html": [
       "<div>\n",
       "<style scoped>\n",
       "    .dataframe tbody tr th:only-of-type {\n",
       "        vertical-align: middle;\n",
       "    }\n",
       "\n",
       "    .dataframe tbody tr th {\n",
       "        vertical-align: top;\n",
       "    }\n",
       "\n",
       "    .dataframe thead th {\n",
       "        text-align: right;\n",
       "    }\n",
       "</style>\n",
       "<table border=\"1\" class=\"dataframe\">\n",
       "  <thead>\n",
       "    <tr style=\"text-align: right;\">\n",
       "      <th></th>\n",
       "      <th>appid</th>\n",
       "      <th>english</th>\n",
       "      <th>required_age</th>\n",
       "      <th>achievements</th>\n",
       "      <th>positive_ratings</th>\n",
       "      <th>negative_ratings</th>\n",
       "      <th>average_playtime</th>\n",
       "      <th>median_playtime</th>\n",
       "      <th>price</th>\n",
       "    </tr>\n",
       "  </thead>\n",
       "  <tbody>\n",
       "    <tr>\n",
       "      <th>count</th>\n",
       "      <td>27075.00</td>\n",
       "      <td>27075.00</td>\n",
       "      <td>27075.00</td>\n",
       "      <td>27075.00</td>\n",
       "      <td>27075.00</td>\n",
       "      <td>27075.00</td>\n",
       "      <td>27075.00</td>\n",
       "      <td>27075.00</td>\n",
       "      <td>27075.00</td>\n",
       "    </tr>\n",
       "    <tr>\n",
       "      <th>mean</th>\n",
       "      <td>596203.51</td>\n",
       "      <td>0.98</td>\n",
       "      <td>0.35</td>\n",
       "      <td>45.25</td>\n",
       "      <td>1000.56</td>\n",
       "      <td>211.03</td>\n",
       "      <td>149.80</td>\n",
       "      <td>146.06</td>\n",
       "      <td>6.08</td>\n",
       "    </tr>\n",
       "    <tr>\n",
       "      <th>std</th>\n",
       "      <td>250894.17</td>\n",
       "      <td>0.14</td>\n",
       "      <td>2.41</td>\n",
       "      <td>352.67</td>\n",
       "      <td>18988.72</td>\n",
       "      <td>4284.94</td>\n",
       "      <td>1827.04</td>\n",
       "      <td>2353.88</td>\n",
       "      <td>7.87</td>\n",
       "    </tr>\n",
       "    <tr>\n",
       "      <th>min</th>\n",
       "      <td>10.00</td>\n",
       "      <td>0.00</td>\n",
       "      <td>0.00</td>\n",
       "      <td>0.00</td>\n",
       "      <td>0.00</td>\n",
       "      <td>0.00</td>\n",
       "      <td>0.00</td>\n",
       "      <td>0.00</td>\n",
       "      <td>0.00</td>\n",
       "    </tr>\n",
       "    <tr>\n",
       "      <th>25%</th>\n",
       "      <td>401230.00</td>\n",
       "      <td>1.00</td>\n",
       "      <td>0.00</td>\n",
       "      <td>0.00</td>\n",
       "      <td>6.00</td>\n",
       "      <td>2.00</td>\n",
       "      <td>0.00</td>\n",
       "      <td>0.00</td>\n",
       "      <td>1.69</td>\n",
       "    </tr>\n",
       "    <tr>\n",
       "      <th>50%</th>\n",
       "      <td>599070.00</td>\n",
       "      <td>1.00</td>\n",
       "      <td>0.00</td>\n",
       "      <td>7.00</td>\n",
       "      <td>24.00</td>\n",
       "      <td>9.00</td>\n",
       "      <td>0.00</td>\n",
       "      <td>0.00</td>\n",
       "      <td>3.99</td>\n",
       "    </tr>\n",
       "    <tr>\n",
       "      <th>75%</th>\n",
       "      <td>798760.00</td>\n",
       "      <td>1.00</td>\n",
       "      <td>0.00</td>\n",
       "      <td>23.00</td>\n",
       "      <td>126.00</td>\n",
       "      <td>42.00</td>\n",
       "      <td>0.00</td>\n",
       "      <td>0.00</td>\n",
       "      <td>7.19</td>\n",
       "    </tr>\n",
       "    <tr>\n",
       "      <th>max</th>\n",
       "      <td>1069460.00</td>\n",
       "      <td>1.00</td>\n",
       "      <td>18.00</td>\n",
       "      <td>9821.00</td>\n",
       "      <td>2644404.00</td>\n",
       "      <td>487076.00</td>\n",
       "      <td>190625.00</td>\n",
       "      <td>190625.00</td>\n",
       "      <td>421.99</td>\n",
       "    </tr>\n",
       "  </tbody>\n",
       "</table>\n",
       "</div>"
      ],
      "text/plain": [
       "            appid   english  required_age  achievements  positive_ratings  \\\n",
       "count    27075.00  27075.00      27075.00      27075.00          27075.00   \n",
       "mean    596203.51      0.98          0.35         45.25           1000.56   \n",
       "std     250894.17      0.14          2.41        352.67          18988.72   \n",
       "min         10.00      0.00          0.00          0.00              0.00   \n",
       "25%     401230.00      1.00          0.00          0.00              6.00   \n",
       "50%     599070.00      1.00          0.00          7.00             24.00   \n",
       "75%     798760.00      1.00          0.00         23.00            126.00   \n",
       "max    1069460.00      1.00         18.00       9821.00        2644404.00   \n",
       "\n",
       "       negative_ratings  average_playtime  median_playtime     price  \n",
       "count          27075.00          27075.00         27075.00  27075.00  \n",
       "mean             211.03            149.80           146.06      6.08  \n",
       "std             4284.94           1827.04          2353.88      7.87  \n",
       "min                0.00              0.00             0.00      0.00  \n",
       "25%                2.00              0.00             0.00      1.69  \n",
       "50%                9.00              0.00             0.00      3.99  \n",
       "75%               42.00              0.00             0.00      7.19  \n",
       "max           487076.00         190625.00        190625.00    421.99  "
      ]
     },
     "execution_count": 3,
     "metadata": {},
     "output_type": "execute_result"
    }
   ],
   "source": [
    "df_steam.describe().round(2)"
   ]
  },
  {
   "cell_type": "markdown",
   "metadata": {},
   "source": [
    "### Nomes e Tipos de Dados das Colunas"
   ]
  },
  {
   "cell_type": "code",
   "execution_count": 4,
   "metadata": {},
   "outputs": [
    {
     "data": {
      "text/plain": [
       "appid                 int64\n",
       "name                 object\n",
       "release_date         object\n",
       "english               int64\n",
       "developer            object\n",
       "publisher            object\n",
       "platforms            object\n",
       "required_age          int64\n",
       "categories           object\n",
       "genres               object\n",
       "steamspy_tags        object\n",
       "achievements          int64\n",
       "positive_ratings      int64\n",
       "negative_ratings      int64\n",
       "average_playtime      int64\n",
       "median_playtime       int64\n",
       "owners               object\n",
       "price               float64\n",
       "dtype: object"
      ]
     },
     "execution_count": 4,
     "metadata": {},
     "output_type": "execute_result"
    }
   ],
   "source": [
    "df_steam.dtypes"
   ]
  },
  {
   "cell_type": "markdown",
   "metadata": {},
   "source": [
    "### Dados Faltantes"
   ]
  },
  {
   "cell_type": "code",
   "execution_count": 5,
   "metadata": {},
   "outputs": [
    {
     "data": {
      "text/plain": [
       "appid                0\n",
       "name                 0\n",
       "release_date         0\n",
       "english              0\n",
       "developer            1\n",
       "publisher           14\n",
       "platforms            0\n",
       "required_age         0\n",
       "categories           0\n",
       "genres               0\n",
       "steamspy_tags        0\n",
       "achievements         0\n",
       "positive_ratings     0\n",
       "negative_ratings     0\n",
       "average_playtime     0\n",
       "median_playtime      0\n",
       "owners               0\n",
       "price                0\n",
       "dtype: int64"
      ]
     },
     "execution_count": 5,
     "metadata": {},
     "output_type": "execute_result"
    }
   ],
   "source": [
    "df_steam.isnull().sum()"
   ]
  },
  {
   "cell_type": "markdown",
   "metadata": {},
   "source": [
    "---\n",
    "## Tratamento dos Dados"
   ]
  },
  {
   "cell_type": "markdown",
   "metadata": {},
   "source": [
    "### *'median_playtime'*"
   ]
  },
  {
   "cell_type": "markdown",
   "metadata": {},
   "source": [
    "Como visto acima, uma das nossa principais colunas para esse estudo, a 'median_playtime', parece ter muitos dados zerados:"
   ]
  },
  {
   "cell_type": "code",
   "execution_count": 6,
   "metadata": {},
   "outputs": [
    {
     "data": {
      "text/plain": [
       "median_playtime\n",
       "0       0.772114\n",
       "1       0.005725\n",
       "3       0.002659\n",
       "2       0.001921\n",
       "9       0.001773\n",
       "          ...   \n",
       "2379    0.000037\n",
       "2478    0.000037\n",
       "1052    0.000037\n",
       "2390    0.000037\n",
       "816     0.000037\n",
       "Name: proportion, Length: 1312, dtype: float64"
      ]
     },
     "execution_count": 6,
     "metadata": {},
     "output_type": "execute_result"
    }
   ],
   "source": [
    "df_steam['median_playtime'].value_counts(normalize=True)"
   ]
  },
  {
   "cell_type": "markdown",
   "metadata": {},
   "source": [
    "Podemos ver que cerca de **77%** dos valores estao zerados. Partindo da premissa que esses dados podem ser dados faltantes e que prejudicariam a análise, iremos então excluir esses registros ao mesmo tempo que manteremos apenas as colunas relevantes."
   ]
  },
  {
   "cell_type": "code",
   "execution_count": 7,
   "metadata": {},
   "outputs": [
    {
     "data": {
      "text/html": [
       "<div>\n",
       "<style scoped>\n",
       "    .dataframe tbody tr th:only-of-type {\n",
       "        vertical-align: middle;\n",
       "    }\n",
       "\n",
       "    .dataframe tbody tr th {\n",
       "        vertical-align: top;\n",
       "    }\n",
       "\n",
       "    .dataframe thead th {\n",
       "        text-align: right;\n",
       "    }\n",
       "</style>\n",
       "<table border=\"1\" class=\"dataframe\">\n",
       "  <thead>\n",
       "    <tr style=\"text-align: right;\">\n",
       "      <th></th>\n",
       "      <th>appid</th>\n",
       "      <th>positive_ratings</th>\n",
       "      <th>negative_ratings</th>\n",
       "      <th>median_playtime</th>\n",
       "    </tr>\n",
       "  </thead>\n",
       "  <tbody>\n",
       "    <tr>\n",
       "      <th>count</th>\n",
       "      <td>6.170000e+03</td>\n",
       "      <td>6.170000e+03</td>\n",
       "      <td>6170.000000</td>\n",
       "      <td>6170.000000</td>\n",
       "    </tr>\n",
       "    <tr>\n",
       "      <th>mean</th>\n",
       "      <td>4.000430e+05</td>\n",
       "      <td>4.181495e+03</td>\n",
       "      <td>858.130470</td>\n",
       "      <td>640.918476</td>\n",
       "    </tr>\n",
       "    <tr>\n",
       "      <th>std</th>\n",
       "      <td>2.064139e+05</td>\n",
       "      <td>3.961343e+04</td>\n",
       "      <td>8945.578447</td>\n",
       "      <td>4898.936256</td>\n",
       "    </tr>\n",
       "    <tr>\n",
       "      <th>min</th>\n",
       "      <td>1.000000e+01</td>\n",
       "      <td>0.000000e+00</td>\n",
       "      <td>0.000000</td>\n",
       "      <td>1.000000</td>\n",
       "    </tr>\n",
       "    <tr>\n",
       "      <th>25%</th>\n",
       "      <td>2.659500e+05</td>\n",
       "      <td>1.060000e+02</td>\n",
       "      <td>38.000000</td>\n",
       "      <td>77.000000</td>\n",
       "    </tr>\n",
       "    <tr>\n",
       "      <th>50%</th>\n",
       "      <td>3.887050e+05</td>\n",
       "      <td>4.080000e+02</td>\n",
       "      <td>113.000000</td>\n",
       "      <td>228.000000</td>\n",
       "    </tr>\n",
       "    <tr>\n",
       "      <th>75%</th>\n",
       "      <td>5.395950e+05</td>\n",
       "      <td>1.704750e+03</td>\n",
       "      <td>365.000000</td>\n",
       "      <td>371.000000</td>\n",
       "    </tr>\n",
       "    <tr>\n",
       "      <th>max</th>\n",
       "      <td>1.051310e+06</td>\n",
       "      <td>2.644404e+06</td>\n",
       "      <td>487076.000000</td>\n",
       "      <td>190625.000000</td>\n",
       "    </tr>\n",
       "  </tbody>\n",
       "</table>\n",
       "</div>"
      ],
      "text/plain": [
       "              appid  positive_ratings  negative_ratings  median_playtime\n",
       "count  6.170000e+03      6.170000e+03       6170.000000      6170.000000\n",
       "mean   4.000430e+05      4.181495e+03        858.130470       640.918476\n",
       "std    2.064139e+05      3.961343e+04       8945.578447      4898.936256\n",
       "min    1.000000e+01      0.000000e+00          0.000000         1.000000\n",
       "25%    2.659500e+05      1.060000e+02         38.000000        77.000000\n",
       "50%    3.887050e+05      4.080000e+02        113.000000       228.000000\n",
       "75%    5.395950e+05      1.704750e+03        365.000000       371.000000\n",
       "max    1.051310e+06      2.644404e+06     487076.000000    190625.000000"
      ]
     },
     "execution_count": 7,
     "metadata": {},
     "output_type": "execute_result"
    }
   ],
   "source": [
    "df_steam = df_steam[df_steam['median_playtime'] > 0][['appid', 'name', 'release_date', 'positive_ratings', 'negative_ratings', 'median_playtime']]\n",
    "df_steam.describe()"
   ]
  },
  {
   "cell_type": "markdown",
   "metadata": {},
   "source": [
    "Percebemos então que a **média(640)** distoa bastante para cima do **terceiro quartil(371)**, dando indício que temos outliers. Vamos segmentar melhor o quartil final e ver de forma gráfica a coluna:"
   ]
  },
  {
   "cell_type": "code",
   "execution_count": 8,
   "metadata": {},
   "outputs": [
    {
     "data": {
      "text/plain": [
       "count      6170.000000\n",
       "mean        640.918476\n",
       "std        4898.936256\n",
       "min           1.000000\n",
       "50%         228.000000\n",
       "75%         371.000000\n",
       "85%         574.650000\n",
       "95%        1611.500000\n",
       "98%        3593.400000\n",
       "99%        5701.040000\n",
       "max      190625.000000\n",
       "Name: median_playtime, dtype: float64"
      ]
     },
     "execution_count": 8,
     "metadata": {},
     "output_type": "execute_result"
    }
   ],
   "source": [
    "df_steam['median_playtime'].describe(percentiles=[0.75, 0.85, 0.95, 0.98, 0.99])"
   ]
  },
  {
   "cell_type": "code",
   "execution_count": 9,
   "metadata": {},
   "outputs": [
    {
     "data": {
      "text/plain": [
       "<Axes: >"
      ]
     },
     "execution_count": 9,
     "metadata": {},
     "output_type": "execute_result"
    },
    {
     "data": {
      "image/png": "[encoded data removed]",
      "text/plain": [
       "<Figure size 640x480 with 1 Axes>"
      ]
     },
     "metadata": {},
     "output_type": "display_data"
    }
   ],
   "source": [
    "df_steam['median_playtime'].plot(kind='box')"
   ]
  },
  {
   "cell_type": "markdown",
   "metadata": {},
   "source": [
    "Confirmada a presença de outliers, vamos entao exclui-los filtrando os dados, excluindo os 1% dos valores mais altos:"
   ]
  },
  {
   "cell_type": "code",
   "execution_count": 10,
   "metadata": {},
   "outputs": [
    {
     "data": {
      "text/html": [
       "<div>\n",
       "<style scoped>\n",
       "    .dataframe tbody tr th:only-of-type {\n",
       "        vertical-align: middle;\n",
       "    }\n",
       "\n",
       "    .dataframe tbody tr th {\n",
       "        vertical-align: top;\n",
       "    }\n",
       "\n",
       "    .dataframe thead th {\n",
       "        text-align: right;\n",
       "    }\n",
       "</style>\n",
       "<table border=\"1\" class=\"dataframe\">\n",
       "  <thead>\n",
       "    <tr style=\"text-align: right;\">\n",
       "      <th></th>\n",
       "      <th>appid</th>\n",
       "      <th>positive_ratings</th>\n",
       "      <th>negative_ratings</th>\n",
       "      <th>median_playtime</th>\n",
       "    </tr>\n",
       "  </thead>\n",
       "  <tbody>\n",
       "    <tr>\n",
       "      <th>count</th>\n",
       "      <td>5.541000e+03</td>\n",
       "      <td>5541.000000</td>\n",
       "      <td>5541.000000</td>\n",
       "      <td>5541.000000</td>\n",
       "    </tr>\n",
       "    <tr>\n",
       "      <th>mean</th>\n",
       "      <td>3.934662e+05</td>\n",
       "      <td>3243.934488</td>\n",
       "      <td>612.018769</td>\n",
       "      <td>286.813752</td>\n",
       "    </tr>\n",
       "    <tr>\n",
       "      <th>std</th>\n",
       "      <td>2.029599e+05</td>\n",
       "      <td>18225.634807</td>\n",
       "      <td>3208.943585</td>\n",
       "      <td>284.203247</td>\n",
       "    </tr>\n",
       "    <tr>\n",
       "      <th>min</th>\n",
       "      <td>1.000000e+01</td>\n",
       "      <td>0.000000</td>\n",
       "      <td>0.000000</td>\n",
       "      <td>5.000000</td>\n",
       "    </tr>\n",
       "    <tr>\n",
       "      <th>25%</th>\n",
       "      <td>2.637000e+05</td>\n",
       "      <td>108.000000</td>\n",
       "      <td>39.000000</td>\n",
       "      <td>95.000000</td>\n",
       "    </tr>\n",
       "    <tr>\n",
       "      <th>50%</th>\n",
       "      <td>3.850700e+05</td>\n",
       "      <td>410.000000</td>\n",
       "      <td>113.000000</td>\n",
       "      <td>228.000000</td>\n",
       "    </tr>\n",
       "    <tr>\n",
       "      <th>75%</th>\n",
       "      <td>5.286700e+05</td>\n",
       "      <td>1637.000000</td>\n",
       "      <td>351.000000</td>\n",
       "      <td>343.000000</td>\n",
       "    </tr>\n",
       "    <tr>\n",
       "      <th>max</th>\n",
       "      <td>1.051310e+06</td>\n",
       "      <td>863507.000000</td>\n",
       "      <td>142079.000000</td>\n",
       "      <td>1606.000000</td>\n",
       "    </tr>\n",
       "  </tbody>\n",
       "</table>\n",
       "</div>"
      ],
      "text/plain": [
       "              appid  positive_ratings  negative_ratings  median_playtime\n",
       "count  5.541000e+03       5541.000000       5541.000000      5541.000000\n",
       "mean   3.934662e+05       3243.934488        612.018769       286.813752\n",
       "std    2.029599e+05      18225.634807       3208.943585       284.203247\n",
       "min    1.000000e+01          0.000000          0.000000         5.000000\n",
       "25%    2.637000e+05        108.000000         39.000000        95.000000\n",
       "50%    3.850700e+05        410.000000        113.000000       228.000000\n",
       "75%    5.286700e+05       1637.000000        351.000000       343.000000\n",
       "max    1.051310e+06     863507.000000     142079.000000      1606.000000"
      ]
     },
     "execution_count": 10,
     "metadata": {},
     "output_type": "execute_result"
    }
   ],
   "source": [
    "cutoff_value_median_playtime = df_steam['median_playtime'].describe(percentiles=[0.05, 0.95])['95%']\n",
    "df_steam = df_steam[df_steam['median_playtime'] < cutoff_value_median_playtime]\n",
    "cutoff_value_median_playtime = df_steam['median_playtime'].describe(percentiles=[0.05, 0.95])['5%']\n",
    "df_steam = df_steam[df_steam['median_playtime'] > cutoff_value_median_playtime]\n",
    "df_steam.describe()"
   ]
  },
  {
   "cell_type": "markdown",
   "metadata": {},
   "source": [
    "### *'positive_ratings' e 'negative_ratings'*"
   ]
  },
  {
   "cell_type": "markdown",
   "metadata": {},
   "source": [
    "Vamos fazer a mesma limpeza para 'positive_ratings'"
   ]
  },
  {
   "cell_type": "code",
   "execution_count": 11,
   "metadata": {},
   "outputs": [
    {
     "data": {
      "text/plain": [
       "count      5541.000000\n",
       "mean       3243.934488\n",
       "std       18225.634807\n",
       "min           0.000000\n",
       "50%         410.000000\n",
       "75%        1637.000000\n",
       "85%        3449.000000\n",
       "95%       11930.000000\n",
       "98%       26819.400000\n",
       "99%       45936.400000\n",
       "max      863507.000000\n",
       "Name: positive_ratings, dtype: float64"
      ]
     },
     "execution_count": 11,
     "metadata": {},
     "output_type": "execute_result"
    }
   ],
   "source": [
    "df_steam['positive_ratings'].describe(percentiles=[0.75, 0.85, 0.95, 0.98, 0.99])"
   ]
  },
  {
   "cell_type": "code",
   "execution_count": 12,
   "metadata": {},
   "outputs": [
    {
     "data": {
      "text/html": [
       "<div>\n",
       "<style scoped>\n",
       "    .dataframe tbody tr th:only-of-type {\n",
       "        vertical-align: middle;\n",
       "    }\n",
       "\n",
       "    .dataframe tbody tr th {\n",
       "        vertical-align: top;\n",
       "    }\n",
       "\n",
       "    .dataframe thead th {\n",
       "        text-align: right;\n",
       "    }\n",
       "</style>\n",
       "<table border=\"1\" class=\"dataframe\">\n",
       "  <thead>\n",
       "    <tr style=\"text-align: right;\">\n",
       "      <th></th>\n",
       "      <th>appid</th>\n",
       "      <th>positive_ratings</th>\n",
       "      <th>negative_ratings</th>\n",
       "      <th>median_playtime</th>\n",
       "    </tr>\n",
       "  </thead>\n",
       "  <tbody>\n",
       "    <tr>\n",
       "      <th>count</th>\n",
       "      <td>4.988000e+03</td>\n",
       "      <td>4988.000000</td>\n",
       "      <td>4988.000000</td>\n",
       "      <td>4988.000000</td>\n",
       "    </tr>\n",
       "    <tr>\n",
       "      <th>mean</th>\n",
       "      <td>3.931079e+05</td>\n",
       "      <td>1285.287089</td>\n",
       "      <td>331.175822</td>\n",
       "      <td>277.289294</td>\n",
       "    </tr>\n",
       "    <tr>\n",
       "      <th>std</th>\n",
       "      <td>2.031646e+05</td>\n",
       "      <td>2092.763739</td>\n",
       "      <td>700.005621</td>\n",
       "      <td>278.749369</td>\n",
       "    </tr>\n",
       "    <tr>\n",
       "      <th>min</th>\n",
       "      <td>2.000000e+01</td>\n",
       "      <td>19.000000</td>\n",
       "      <td>0.000000</td>\n",
       "      <td>5.000000</td>\n",
       "    </tr>\n",
       "    <tr>\n",
       "      <th>25%</th>\n",
       "      <td>2.650900e+05</td>\n",
       "      <td>125.750000</td>\n",
       "      <td>44.000000</td>\n",
       "      <td>87.750000</td>\n",
       "    </tr>\n",
       "    <tr>\n",
       "      <th>50%</th>\n",
       "      <td>3.839900e+05</td>\n",
       "      <td>410.000000</td>\n",
       "      <td>113.000000</td>\n",
       "      <td>223.000000</td>\n",
       "    </tr>\n",
       "    <tr>\n",
       "      <th>75%</th>\n",
       "      <td>5.263100e+05</td>\n",
       "      <td>1402.250000</td>\n",
       "      <td>311.000000</td>\n",
       "      <td>334.000000</td>\n",
       "    </tr>\n",
       "    <tr>\n",
       "      <th>max</th>\n",
       "      <td>1.051310e+06</td>\n",
       "      <td>11893.000000</td>\n",
       "      <td>15403.000000</td>\n",
       "      <td>1606.000000</td>\n",
       "    </tr>\n",
       "  </tbody>\n",
       "</table>\n",
       "</div>"
      ],
      "text/plain": [
       "              appid  positive_ratings  negative_ratings  median_playtime\n",
       "count  4.988000e+03       4988.000000       4988.000000      4988.000000\n",
       "mean   3.931079e+05       1285.287089        331.175822       277.289294\n",
       "std    2.031646e+05       2092.763739        700.005621       278.749369\n",
       "min    2.000000e+01         19.000000          0.000000         5.000000\n",
       "25%    2.650900e+05        125.750000         44.000000        87.750000\n",
       "50%    3.839900e+05        410.000000        113.000000       223.000000\n",
       "75%    5.263100e+05       1402.250000        311.000000       334.000000\n",
       "max    1.051310e+06      11893.000000      15403.000000      1606.000000"
      ]
     },
     "execution_count": 12,
     "metadata": {},
     "output_type": "execute_result"
    }
   ],
   "source": [
    "cutoff_value_positive_ratings = df_steam['positive_ratings'].describe(percentiles=[0.05, 0.95])['95%']\n",
    "df_steam = df_steam[df_steam['positive_ratings'] < cutoff_value_positive_ratings]\n",
    "cutoff_value_positive_ratings = df_steam['positive_ratings'].describe(percentiles=[0.05, 0.95])['5%']\n",
    "df_steam = df_steam[df_steam['positive_ratings'] > cutoff_value_positive_ratings]\n",
    "df_steam.describe()"
   ]
  },
  {
   "cell_type": "markdown",
   "metadata": {},
   "source": [
    "Foi visto que existem valores zero para as quantidades de avaliações positivas e avaliações negativas, mas não é interessante se o mesmo registro(jogo) não tiver valores em ambas as colunas, visto que isso significa que o jogo não chegou a ser avaliado ou tem esse dado faltante."
   ]
  },
  {
   "cell_type": "code",
   "execution_count": 13,
   "metadata": {},
   "outputs": [
    {
     "data": {
      "text/plain": [
       "0"
      ]
     },
     "execution_count": 13,
     "metadata": {},
     "output_type": "execute_result"
    }
   ],
   "source": [
    "df_steam[(df_steam['positive_ratings'] == 0) & (df_steam['negative_ratings'] == 0)].count()['appid']"
   ]
  },
  {
   "cell_type": "markdown",
   "metadata": {},
   "source": [
    "Nenhum registro com esse problema foi encontrado."
   ]
  },
  {
   "cell_type": "markdown",
   "metadata": {},
   "source": [
    "Para deixar nossa análise mais acertiva, não vamos considerar jogos que tem poucas avaliações, visto que esse tipo de situação poderia não refletir a opnião da maioria. Por exemplo, um jogo com 'positive_ratings' igual a 3 e 'negative_ratings' igual a 0, não consegue necessariamente informar se aquele título é bem recebido pelo público pois falta quantidade de avaliações.\n",
    "Para isso, vamos criar uma nova coluna onde mostra a soma das avaliações e filtrar o dataset a partir dela."
   ]
  },
  {
   "cell_type": "code",
   "execution_count": 14,
   "metadata": {},
   "outputs": [
    {
     "data": {
      "text/plain": [
       "4987"
      ]
     },
     "execution_count": 14,
     "metadata": {},
     "output_type": "execute_result"
    }
   ],
   "source": [
    "df_steam['total_ratings'] = df_steam['positive_ratings'] + df_steam['negative_ratings']\n",
    "\n",
    "df_steam = df_steam[df_steam['total_ratings'] > 19]\n",
    "df_steam.count()['appid']"
   ]
  },
  {
   "cell_type": "markdown",
   "metadata": {},
   "source": [
    "Com o dataset filtrado, agora podemos adicionar a coluna que vai nos mostrar a razão entre as avaliações positivas e o total de avaliações, quanto maior o valor, melhor a recepção do título pelo público"
   ]
  },
  {
   "cell_type": "code",
   "execution_count": 15,
   "metadata": {},
   "outputs": [
    {
     "data": {
      "text/plain": [
       "count    4987.000000\n",
       "mean        0.743464\n",
       "std         0.167501\n",
       "min         0.122581\n",
       "25%         0.643808\n",
       "50%         0.779917\n",
       "75%         0.876599\n",
       "max         1.000000\n",
       "Name: positive_ratio, dtype: float64"
      ]
     },
     "execution_count": 15,
     "metadata": {},
     "output_type": "execute_result"
    }
   ],
   "source": [
    "df_steam['positive_ratio'] = df_steam['positive_ratings'] / df_steam['total_ratings']\n",
    "df_steam['positive_ratio'].describe()"
   ]
  },
  {
   "cell_type": "markdown",
   "metadata": {},
   "source": [
    "---\n",
    "## Visualização dos Dados"
   ]
  },
  {
   "cell_type": "code",
   "execution_count": 16,
   "metadata": {},
   "outputs": [
    {
     "data": {
      "image/png": "[encoded data removed]",
      "text/plain": [
       "<Figure size 640x480 with 1 Axes>"
      ]
     },
     "metadata": {},
     "output_type": "display_data"
    }
   ],
   "source": [
    "df_steam['median_playtime'].plot(kind='hist', bins=100)\n",
    "plt.title('Frequência de Tempo de Jogo Mediano')\n",
    "plt.xlabel('Median Playtime')\n",
    "plt.ylabel('Frequência')\n",
    "plt.show()"
   ]
  },
  {
   "cell_type": "code",
   "execution_count": 17,
   "metadata": {},
   "outputs": [
    {
     "data": {
      "image/png": "[encoded data removed]",
      "text/plain": [
       "<Figure size 640x480 with 1 Axes>"
      ]
     },
     "metadata": {},
     "output_type": "display_data"
    }
   ],
   "source": [
    "df_steam['positive_ratio'].plot(kind='hist', bins=100)\n",
    "plt.title('Frequência da Razão das Avaliações Positivas')\n",
    "plt.xlabel('positive_ratio')\n",
    "plt.ylabel('Frequência')\n",
    "plt.show()"
   ]
  },
  {
   "cell_type": "markdown",
   "metadata": {},
   "source": [
    "---\n",
    "## Teste de Hipótese"
   ]
  },
  {
   "cell_type": "markdown",
   "metadata": {},
   "source": [
    "Teste de Normalidade"
   ]
  },
  {
   "cell_type": "code",
   "execution_count": 18,
   "metadata": {},
   "outputs": [
    {
     "name": "stdout",
     "output_type": "stream",
     "text": [
      "'median_playtime' não é uma distribuição normal.\n"
     ]
    }
   ],
   "source": [
    "estatistico, p_value_playtime = stats.normaltest(df_steam['median_playtime'])\n",
    "\n",
    "if p_value_playtime < 0.05:\n",
    "    print(\"'median_playtime' não é uma distribuição normal.\")\n",
    "else:\n",
    "    print(\"'median_playtime' é uma distribuição normal.\")"
   ]
  },
  {
   "cell_type": "code",
   "execution_count": 19,
   "metadata": {},
   "outputs": [
    {
     "name": "stdout",
     "output_type": "stream",
     "text": [
      "'positive_ratio' não é uma distribuição normal.\n"
     ]
    }
   ],
   "source": [
    "estatistico, p_value_ratio = stats.normaltest(df_steam['positive_ratio'])\n",
    "\n",
    "if p_value_playtime < 0.05:\n",
    "    print(\"'positive_ratio' não é uma distribuição normal.\")\n",
    "else:\n",
    "    print(\"'positive_ratio' é uma distribuição normal.\")"
   ]
  },
  {
   "cell_type": "markdown",
   "metadata": {},
   "source": [
    "Agora que sabemos que não estamos trabalhando com dados normais, iremos aplicar a Correlação de Kendall, pois ela não faz suposições sobre a distribuição dos dados."
   ]
  },
  {
   "cell_type": "code",
   "execution_count": 20,
   "metadata": {},
   "outputs": [
    {
     "name": "stdout",
     "output_type": "stream",
     "text": [
      "Coeficiente de Correlação de Kendall: 0.034573772257687485\n",
      "Valor P: 0.0002553142172586727\n",
      "Existe uma correlação entre o tempo de jogo mediano e as avaliações positivas dos usuários\n"
     ]
    }
   ],
   "source": [
    "df_steam_sorted = df_steam.sort_values(by='median_playtime')\n",
    "\n",
    "corr, p_value = stats.kendalltau(df_steam_sorted['median_playtime'], df_steam_sorted['positive_ratio'])\n",
    "\n",
    "print(f\"Coeficiente de Correlação de Kendall: {corr}\")\n",
    "print(f\"Valor P: {p_value}\")\n",
    "\n",
    "if p_value < 0.05:\n",
    "    print(\"Existe uma correlação entre o tempo de jogo mediano e as avaliações positivas dos usuários\")\n",
    "else:\n",
    "    print(\"Não existe uma correlação entre o tempo de jogo mediano e as avaliações positivas dos usuários\")"
   ]
  },
  {
   "cell_type": "code",
   "execution_count": 21,
   "metadata": {},
   "outputs": [
    {
     "data": {
      "image/png": "[encoded data removed]",
      "text/plain": [
       "<Figure size 640x480 with 1 Axes>"
      ]
     },
     "metadata": {},
     "output_type": "display_data"
    }
   ],
   "source": [
    "plt.scatter(df_steam_sorted['median_playtime'], df_steam_sorted['positive_ratio'])\n",
    "plt.xlabel('Median Playtime')\n",
    "plt.ylabel('Positive Ratio')\n",
    "plt.title('Scatter Plot: Median Playtime vs Positive Ratio')\n",
    "plt.show()"
   ]
  }
 ],
 "metadata": {
  "kernelspec": {
   "display_name": "Python 3",
   "language": "python",
   "name": "python3"
  },
  "language_info": {
   "codemirror_mode": {
    "name": "ipython",
    "version": 3
   },
   "file_extension": ".py",
   "mimetype": "text/x-python",
   "name": "python",
   "nbconvert_exporter": "python",
   "pygments_lexer": "ipython3",
   "version": "3.10.6"
  }
 },
 "nbformat": 4,
 "nbformat_minor": 2
}
